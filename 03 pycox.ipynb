{
 "cells": [
  {
   "cell_type": "markdown",
   "metadata": {
    "Collapsed": "false"
   },
   "source": [
    "# 03 pycox\n",
    "\n",
    "*pycox is a libary for Survival Models based on Neural Nets - Mainly implements loss functions that can be put on top of any pytorch architecture*\n",
    "\n",
    "* * *"
   ]
  },
  {
   "cell_type": "markdown",
   "metadata": {
    "Collapsed": "false"
   },
   "source": [
    "# Imports"
   ]
  },
  {
   "cell_type": "code",
   "execution_count": 1,
   "metadata": {},
   "outputs": [],
   "source": [
    "import warnings\n",
    "warnings.filterwarnings('ignore')\n",
    "warnings.simplefilter('ignore')"
   ]
  },
  {
   "cell_type": "code",
   "execution_count": 2,
   "metadata": {
    "Collapsed": "false"
   },
   "outputs": [],
   "source": [
    "import pandas as pd\n",
    "import numpy as np\n",
    "import seaborn as sns\n",
    "sns.set_style('whitegrid')\n",
    "import matplotlib.pyplot as plt\n",
    "\n",
    "from sklearn.model_selection import train_test_split\n",
    "from sklearn.pipeline import Pipeline\n",
    "\n",
    "from category_encoders.ordinal import OrdinalEncoder\n",
    "from sklearn.preprocessing import StandardScaler\n",
    "from sklearn.compose import ColumnTransformer\n",
    "from sklearn.impute import SimpleImputer\n",
    "\n",
    "from lifelines.datasets import load_dd\n",
    "\n",
    "import torchtuples as tt\n",
    "from pycox.models import LogisticHazard, DeepHitSingle\n",
    "\n",
    "from src.dd_column_cfg import id_col, drop_cols, cat_cols, num_cols, duration_col, event_col, target_cols"
   ]
  },
  {
   "cell_type": "markdown",
   "metadata": {
    "Collapsed": "false"
   },
   "source": [
    "# Data\n",
    "\n",
    "[Democracy and Dictatorship dataset](https://lifelines.readthedocs.io/en/latest/lifelines.datasets.html#lifelines.datasets.load_dd)\n",
    "\n",
    "Classification of political regimes as democracy and dictatorship which covers 202 countries from 1946 or year of independence to 2008"
   ]
  },
  {
   "cell_type": "code",
   "execution_count": 3,
   "metadata": {},
   "outputs": [
    {
     "data": {
      "text/plain": [
       "(1808, 13)"
      ]
     },
     "execution_count": 3,
     "metadata": {},
     "output_type": "execute_result"
    }
   ],
   "source": [
    "data = load_dd()\n",
    "\n",
    "data = data.reset_index().rename(columns={'index': id_col})\n",
    "data.democracy = np.where(data.democracy=='Democracy', 1,0)\n",
    "\n",
    "data.shape"
   ]
  },
  {
   "cell_type": "code",
   "execution_count": 4,
   "metadata": {},
   "outputs": [],
   "source": [
    "data[cat_cols] = data[cat_cols].astype('category')\n",
    "\n",
    "bin_cols = [n for n,col in data[cat_cols].items() if len(col.cat.categories) <= 2]\n",
    "cat_cols = list(set(cat_cols) - set(bin_cols))\n",
    "\n",
    "features = cat_cols + bin_cols + num_cols\n",
    "col_order = num_cols + cat_cols + bin_cols + target_cols"
   ]
  },
  {
   "cell_type": "markdown",
   "metadata": {},
   "source": [
    "## Train/Test Split"
   ]
  },
  {
   "cell_type": "code",
   "execution_count": 5,
   "metadata": {},
   "outputs": [
    {
     "data": {
      "text/plain": [
       "((1446, 13), (362, 13))"
      ]
     },
     "execution_count": 5,
     "metadata": {},
     "output_type": "execute_result"
    }
   ],
   "source": [
    "data_train, data_test = train_test_split(data, test_size=0.2)\n",
    "\n",
    "data_train.shape, data_test.shape"
   ]
  },
  {
   "cell_type": "markdown",
   "metadata": {},
   "source": [
    "## Transformer"
   ]
  },
  {
   "cell_type": "code",
   "execution_count": 6,
   "metadata": {},
   "outputs": [],
   "source": [
    "numeric_transformer = Pipeline(steps=[\n",
    "    ('imputer', SimpleImputer(missing_values=np.nan, strategy=\"median\")),\n",
    "    ('scaler', StandardScaler())\n",
    "])\n",
    "\n",
    "categorical_transformer_cox = Pipeline(steps=[\n",
    "    ('imputer', SimpleImputer(missing_values=None, strategy='constant', fill_value='Unbekannt')),\n",
    "    ('ordered_cat', OrdinalEncoder())\n",
    "])\n",
    "\n",
    "transformer = ColumnTransformer(\n",
    "    transformers=[\n",
    "        ('num', numeric_transformer, num_cols),\n",
    "        ('cat', categorical_transformer_cox, cat_cols),\n",
    "        ('passthrough', 'passthrough', bin_cols + target_cols),\n",
    "        ('drop', 'drop', drop_cols + [id_col])\n",
    "    ])"
   ]
  },
  {
   "cell_type": "code",
   "execution_count": 7,
   "metadata": {},
   "outputs": [],
   "source": [
    "train = transformer.fit_transform(data_train, data_train[duration_col])\n",
    "test = transformer.transform(data_test)"
   ]
  },
  {
   "cell_type": "code",
   "execution_count": 8,
   "metadata": {},
   "outputs": [],
   "source": [
    "train = pd.DataFrame(train, columns=col_order)\n",
    "test = pd.DataFrame(test, columns=col_order)"
   ]
  },
  {
   "cell_type": "markdown",
   "metadata": {
    "Collapsed": "false"
   },
   "source": [
    "# Model"
   ]
  },
  {
   "cell_type": "code",
   "execution_count": 9,
   "metadata": {},
   "outputs": [],
   "source": [
    "num_nodes = [64, 64, 64]\n",
    "batch_norm = True\n",
    "dropout = 0.1\n",
    "dropout_embedding = 0.1\n",
    "batch_size = 256"
   ]
  },
  {
   "cell_type": "code",
   "execution_count": 10,
   "metadata": {},
   "outputs": [],
   "source": [
    "x_train_cox = transformer.fit_transform(data_train)\n",
    "x_train_cox_df = pd.DataFrame(x_train_cox, columns=col_order)\n",
    "x_train_cox_df[cat_cols] = x_train_cox_df[cat_cols].astype('category')\n",
    "\n",
    "x_test_cox = transformer.transform(data_test)\n",
    "x_test_cox_df = pd.DataFrame(x_test_cox, columns=col_order)\n",
    "x_test_cox_df[cat_cols] = x_test_cox_df[cat_cols].replace({-1: 0})"
   ]
  },
  {
   "cell_type": "code",
   "execution_count": 11,
   "metadata": {},
   "outputs": [
    {
     "data": {
      "text/plain": [
       "(array([11,  3,  3]), 34)"
      ]
     },
     "execution_count": 11,
     "metadata": {},
     "output_type": "execute_result"
    }
   ],
   "source": [
    "emb_dict = {n: len(col.cat.categories) for n, col in x_train_cox_df[cat_cols].items()}\n",
    "emb_sizes = [(c, min(20, (c + 1) // 2)) for _, c in emb_dict.items()]\n",
    "emb_cols = emb_dict.keys()\n",
    "\n",
    "num_embeddings = np.array([x[0] for x in emb_sizes])\n",
    "embedding_dims = np.array([x[1] for x in emb_sizes])\n",
    "vocab_size = np.sum(num_embeddings) + 1\n",
    "\n",
    "embedding_dims, vocab_size"
   ]
  },
  {
   "cell_type": "code",
   "execution_count": 12,
   "metadata": {},
   "outputs": [],
   "source": [
    "x_train_tup_cox = tt.tuplefy(np.array(x_train_cox_df[num_cols + bin_cols]).astype('float32'), \n",
    "                             np.array(x_train_cox_df[cat_cols]).astype('int64'))\n",
    "\n",
    "x_test_tup_cox = tt.tuplefy(np.array(x_test_cox_df[num_cols + bin_cols]).astype('float32'), \n",
    "                        np.array(x_test_cox_df[cat_cols]).astype('int64'))"
   ]
  },
  {
   "cell_type": "code",
   "execution_count": 13,
   "metadata": {},
   "outputs": [],
   "source": [
    "y_train_tup_cox = tt.tuplefy(np.array(data_train[duration_col]).astype('int64'), \n",
    "                         np.array(data_train[event_col]).astype('float32'))\n",
    "\n",
    "y_test_tup_cox = tt.tuplefy(np.array(data_test[duration_col]).astype('int64'), \n",
    "                        np.array(data_test[event_col]).astype('float32'))\n",
    "\n",
    "test_cox = (x_test_tup_cox, y_test_tup_cox)"
   ]
  },
  {
   "cell_type": "code",
   "execution_count": 14,
   "metadata": {},
   "outputs": [
    {
     "data": {
      "text/plain": [
       "([1, 2, 3], [45, 46, 47])"
      ]
     },
     "execution_count": 14,
     "metadata": {},
     "output_type": "execute_result"
    }
   ],
   "source": [
    "cuts = list(range(1, data[duration_col].max()+1))\n",
    "time_grid = np.array(cuts)\n",
    "\n",
    "cuts[:3], cuts[-3:]"
   ]
  },
  {
   "cell_type": "code",
   "execution_count": 15,
   "metadata": {},
   "outputs": [
    {
     "name": "stdout",
     "output_type": "stream",
     "text": [
      "0:\t[0s / 0s],\t\ttrain_loss: 3.8764,\tval_loss: 3.5575\n",
      "1:\t[0s / 0s],\t\ttrain_loss: 3.1203,\tval_loss: 2.8848\n",
      "2:\t[0s / 0s],\t\ttrain_loss: 2.6489,\tval_loss: 2.3406\n",
      "3:\t[0s / 0s],\t\ttrain_loss: 2.2231,\tval_loss: 2.0265\n",
      "4:\t[0s / 0s],\t\ttrain_loss: 2.0131,\tval_loss: 1.9534\n"
     ]
    }
   ],
   "source": [
    "net = tt.practical.MixedInputMLP(in_features=len(num_cols + bin_cols), \n",
    "                         num_embeddings=num_embeddings + 1,\n",
    "                         embedding_dims=embedding_dims,\n",
    "                         out_features=max(cuts)+1,\n",
    "                         num_nodes=num_nodes, \n",
    "                         batch_norm=batch_norm, \n",
    "                         dropout=dropout, \n",
    "                         dropout_embedding=dropout_embedding)\n",
    "\n",
    "model = LogisticHazard(net=net, optimizer=tt.optim.Adam(lr=0.01, weight_decay=0))\n",
    "history = model.fit(input=x_train_tup_cox, target=y_train_tup_cox, batch_size=batch_size, \n",
    "                    epochs=5, val_data=test_cox, verbose=True)"
   ]
  },
  {
   "cell_type": "code",
   "execution_count": 16,
   "metadata": {},
   "outputs": [],
   "source": [
    "y_pred_surv = model.predict_surv_df(x_test_tup_cox).round(3)"
   ]
  },
  {
   "cell_type": "markdown",
   "metadata": {},
   "source": [
    "# Visualize Output"
   ]
  },
  {
   "cell_type": "code",
   "execution_count": 17,
   "metadata": {},
   "outputs": [
    {
     "data": {
      "image/png": "[encoded data removed]",
      "text/plain": [
       "<Figure size 432x288 with 1 Axes>"
      ]
     },
     "metadata": {
      "needs_background": "light"
     },
     "output_type": "display_data"
    }
   ],
   "source": [
    "idx=0\n",
    "\n",
    "sns.lineplot(data=y_pred_surv[idx])\n",
    "plt.title(f'Survival Curve: Index {idx}')\n",
    "plt.ylim(0,1.05);"
   ]
  },
  {
   "cell_type": "code",
   "execution_count": 18,
   "metadata": {},
   "outputs": [
    {
     "data": {
      "image/png": "[encoded data removed]",
      "text/plain": [
       "<Figure size 432x288 with 1 Axes>"
      ]
     },
     "metadata": {
      "needs_background": "light"
     },
     "output_type": "display_data"
    }
   ],
   "source": [
    "sns.lineplot(data=y_pred_surv.mean(axis=1))\n",
    "plt.title('Survival Curve: Mean')\n",
    "plt.ylim(0,1.05);"
   ]
  }
 ],
 "metadata": {
  "kernelspec": {
   "display_name": "Python 3",
   "language": "python",
   "name": "python3"
  },
  "language_info": {
   "codemirror_mode": {
    "name": "ipython",
    "version": 3
   },
   "file_extension": ".py",
   "mimetype": "text/x-python",
   "name": "python",
   "nbconvert_exporter": "python",
   "pygments_lexer": "ipython3",
   "version": "3.9.12"
  },
  "varInspector": {
   "cols": {
    "lenName": 16,
    "lenType": 16,
    "lenVar": 40
   },
   "kernels_config": {
    "python": {
     "delete_cmd_postfix": "",
     "delete_cmd_prefix": "del ",
     "library": "var_list.py",
     "varRefreshCmd": "print(var_dic_list())"
    },
    "r": {
     "delete_cmd_postfix": ") ",
     "delete_cmd_prefix": "rm(",
     "library": "var_list.r",
     "varRefreshCmd": "cat(var_dic_list()) "
    }
   },
   "types_to_exclude": [
    "module",
    "function",
    "builtin_function_or_method",
    "instance",
    "_Feature"
   ],
   "window_display": false
  }
 },
 "nbformat": 4,
 "nbformat_minor": 4
}
