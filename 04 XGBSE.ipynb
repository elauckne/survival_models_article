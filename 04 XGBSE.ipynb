{
 "cells": [
  {
   "cell_type": "markdown",
   "metadata": {
    "Collapsed": "false"
   },
   "source": [
    "# 04 XGBSE\n",
    "\n",
    "*XGBSE is a library of XGBoost implementations of Survival Models with different model complexities*\n",
    "\n",
    "* * *"
   ]
  },
  {
   "cell_type": "markdown",
   "metadata": {
    "Collapsed": "false"
   },
   "source": [
    "# Imports"
   ]
  },
  {
   "cell_type": "code",
   "execution_count": 1,
   "metadata": {},
   "outputs": [],
   "source": [
    "import warnings\n",
    "warnings.filterwarnings('ignore')\n",
    "warnings.simplefilter('ignore')"
   ]
  },
  {
   "cell_type": "code",
   "execution_count": 2,
   "metadata": {
    "Collapsed": "false"
   },
   "outputs": [],
   "source": [
    "import pandas as pd\n",
    "import numpy as np\n",
    "import seaborn as sns\n",
    "sns.set_style('whitegrid')\n",
    "import matplotlib.pyplot as plt\n",
    "\n",
    "from sklearn.model_selection import train_test_split\n",
    "from sklearn.pipeline import Pipeline\n",
    "\n",
    "from category_encoders.target_encoder import TargetEncoder\n",
    "from sklearn.preprocessing import StandardScaler\n",
    "from sklearn.compose import ColumnTransformer\n",
    "from sklearn.impute import SimpleImputer\n",
    "\n",
    "from lifelines.datasets import load_dd\n",
    "\n",
    "from xgbse import XGBSEKaplanNeighbors, XGBSEBootstrapEstimator, XGBSEKaplanTree\n",
    "from xgbse.converters import convert_data_to_xgb_format, convert_to_structured\n",
    "\n",
    "from src.dd_column_cfg import id_col, drop_cols, cat_cols, num_cols, duration_col, event_col, target_cols"
   ]
  },
  {
   "cell_type": "markdown",
   "metadata": {
    "Collapsed": "false"
   },
   "source": [
    "# Data\n",
    "\n",
    "[Democracy and Dictatorship dataset](https://lifelines.readthedocs.io/en/latest/lifelines.datasets.html#lifelines.datasets.load_dd)\n",
    "\n",
    "Classification of political regimes as democracy and dictatorship which covers 202 countries from 1946 or year of independence to 2008"
   ]
  },
  {
   "cell_type": "code",
   "execution_count": 3,
   "metadata": {},
   "outputs": [
    {
     "data": {
      "text/plain": [
       "(1808, 13)"
      ]
     },
     "execution_count": 3,
     "metadata": {},
     "output_type": "execute_result"
    }
   ],
   "source": [
    "data = load_dd()\n",
    "\n",
    "data = data.reset_index().rename(columns={'index': id_col})\n",
    "data.democracy = np.where(data.democracy=='Democracy', 1,0)\n",
    "\n",
    "data.shape"
   ]
  },
  {
   "cell_type": "code",
   "execution_count": 4,
   "metadata": {},
   "outputs": [],
   "source": [
    "data[cat_cols] = data[cat_cols].astype('category')\n",
    "\n",
    "bin_cols = [n for n,col in data[cat_cols].items() if len(col.cat.categories) <= 2]\n",
    "cat_cols = list(set(cat_cols) - set(bin_cols))\n",
    "\n",
    "features = cat_cols + bin_cols + num_cols\n",
    "col_order = num_cols + cat_cols + bin_cols + target_cols"
   ]
  },
  {
   "cell_type": "markdown",
   "metadata": {},
   "source": [
    "## Train/Test Split"
   ]
  },
  {
   "cell_type": "code",
   "execution_count": 5,
   "metadata": {},
   "outputs": [
    {
     "data": {
      "text/plain": [
       "((1446, 13), (362, 13))"
      ]
     },
     "execution_count": 5,
     "metadata": {},
     "output_type": "execute_result"
    }
   ],
   "source": [
    "data_train, data_test = train_test_split(data, test_size=0.2)\n",
    "\n",
    "data_train.shape, data_test.shape"
   ]
  },
  {
   "cell_type": "markdown",
   "metadata": {},
   "source": [
    "## Transformer"
   ]
  },
  {
   "cell_type": "code",
   "execution_count": 6,
   "metadata": {},
   "outputs": [],
   "source": [
    "numeric_transformer = Pipeline(steps=[\n",
    "    ('imputer', SimpleImputer(missing_values=np.nan, strategy=\"median\")),\n",
    "    ('scaler', StandardScaler())\n",
    "])\n",
    "\n",
    "categorical_transformer = Pipeline(steps=[\n",
    "    ('target_cat', TargetEncoder())\n",
    "])\n",
    "\n",
    "transformer = ColumnTransformer(\n",
    "    transformers=[\n",
    "        ('num', numeric_transformer, num_cols),\n",
    "        ('cat', categorical_transformer, cat_cols),\n",
    "        ('passthrough', 'passthrough', bin_cols + target_cols),\n",
    "        ('drop', 'drop', drop_cols + [id_col])\n",
    "    ])"
   ]
  },
  {
   "cell_type": "code",
   "execution_count": 7,
   "metadata": {},
   "outputs": [],
   "source": [
    "train = transformer.fit_transform(data_train, data_train[duration_col])\n",
    "test = transformer.transform(data_test)"
   ]
  },
  {
   "cell_type": "code",
   "execution_count": 8,
   "metadata": {},
   "outputs": [],
   "source": [
    "train = pd.DataFrame(train, columns=col_order)\n",
    "test = pd.DataFrame(test, columns=col_order)"
   ]
  },
  {
   "cell_type": "markdown",
   "metadata": {
    "Collapsed": "false"
   },
   "source": [
    "# Model"
   ]
  },
  {
   "cell_type": "code",
   "execution_count": 9,
   "metadata": {},
   "outputs": [],
   "source": [
    "y_train_xgbse = convert_to_structured(train[duration_col], train[event_col])\n",
    "y_test_xgbse = convert_to_structured(test[duration_col], test[event_col])"
   ]
  },
  {
   "cell_type": "code",
   "execution_count": 10,
   "metadata": {},
   "outputs": [
    {
     "data": {
      "text/plain": [
       "([1, 2, 3], [45, 46, 47])"
      ]
     },
     "execution_count": 10,
     "metadata": {},
     "output_type": "execute_result"
    }
   ],
   "source": [
    "cuts = list(range(1, data[duration_col].max()+1))\n",
    "time_grid = np.array(cuts)\n",
    "\n",
    "cuts[:3], cuts[-3:]"
   ]
  },
  {
   "cell_type": "code",
   "execution_count": 11,
   "metadata": {
    "Collapsed": "false"
   },
   "outputs": [
    {
     "data": {
      "text/html": [
       "<style>#sk-container-id-1 {color: black;background-color: white;}#sk-container-id-1 pre{padding: 0;}#sk-container-id-1 div.sk-toggleable {background-color: white;}#sk-container-id-1 label.sk-toggleable__label {cursor: pointer;display: block;width: 100%;margin-bottom: 0;padding: 0.3em;box-sizing: border-box;text-align: center;}#sk-container-id-1 label.sk-toggleable__label-arrow:before {content: \"▸\";float: left;margin-right: 0.25em;color: #696969;}#sk-container-id-1 label.sk-toggleable__label-arrow:hover:before {color: black;}#sk-container-id-1 div.sk-estimator:hover label.sk-toggleable__label-arrow:before {color: black;}#sk-container-id-1 div.sk-toggleable__content {max-height: 0;max-width: 0;overflow: hidden;text-align: left;background-color: #f0f8ff;}#sk-container-id-1 div.sk-toggleable__content pre {margin: 0.2em;color: black;border-radius: 0.25em;background-color: #f0f8ff;}#sk-container-id-1 input.sk-toggleable__control:checked~div.sk-toggleable__content {max-height: 200px;max-width: 100%;overflow: auto;}#sk-container-id-1 input.sk-toggleable__control:checked~label.sk-toggleable__label-arrow:before {content: \"▾\";}#sk-container-id-1 div.sk-estimator input.sk-toggleable__control:checked~label.sk-toggleable__label {background-color: #d4ebff;}#sk-container-id-1 div.sk-label input.sk-toggleable__control:checked~label.sk-toggleable__label {background-color: #d4ebff;}#sk-container-id-1 input.sk-hidden--visually {border: 0;clip: rect(1px 1px 1px 1px);clip: rect(1px, 1px, 1px, 1px);height: 1px;margin: -1px;overflow: hidden;padding: 0;position: absolute;width: 1px;}#sk-container-id-1 div.sk-estimator {font-family: monospace;background-color: #f0f8ff;border: 1px dotted black;border-radius: 0.25em;box-sizing: border-box;margin-bottom: 0.5em;}#sk-container-id-1 div.sk-estimator:hover {background-color: #d4ebff;}#sk-container-id-1 div.sk-parallel-item::after {content: \"\";width: 100%;border-bottom: 1px solid gray;flex-grow: 1;}#sk-container-id-1 div.sk-label:hover label.sk-toggleable__label {background-color: #d4ebff;}#sk-container-id-1 div.sk-serial::before {content: \"\";position: absolute;border-left: 1px solid gray;box-sizing: border-box;top: 0;bottom: 0;left: 50%;z-index: 0;}#sk-container-id-1 div.sk-serial {display: flex;flex-direction: column;align-items: center;background-color: white;padding-right: 0.2em;padding-left: 0.2em;position: relative;}#sk-container-id-1 div.sk-item {position: relative;z-index: 1;}#sk-container-id-1 div.sk-parallel {display: flex;align-items: stretch;justify-content: center;background-color: white;position: relative;}#sk-container-id-1 div.sk-item::before, #sk-container-id-1 div.sk-parallel-item::before {content: \"\";position: absolute;border-left: 1px solid gray;box-sizing: border-box;top: 0;bottom: 0;left: 50%;z-index: -1;}#sk-container-id-1 div.sk-parallel-item {display: flex;flex-direction: column;z-index: 1;position: relative;background-color: white;}#sk-container-id-1 div.sk-parallel-item:first-child::after {align-self: flex-end;width: 50%;}#sk-container-id-1 div.sk-parallel-item:last-child::after {align-self: flex-start;width: 50%;}#sk-container-id-1 div.sk-parallel-item:only-child::after {width: 0;}#sk-container-id-1 div.sk-dashed-wrapped {border: 1px dashed gray;margin: 0 0.4em 0.5em 0.4em;box-sizing: border-box;padding-bottom: 0.4em;background-color: white;}#sk-container-id-1 div.sk-label label {font-family: monospace;font-weight: bold;display: inline-block;line-height: 1.2em;}#sk-container-id-1 div.sk-label-container {text-align: center;}#sk-container-id-1 div.sk-container {/* jupyter's `normalize.less` sets `[hidden] { display: none; }` but bootstrap.min.css set `[hidden] { display: none !important; }` so we also need the `!important` here to be able to override the default hidden behavior on the sphinx rendered scikit-learn.org. See: https://github.com/scikit-learn/scikit-learn/issues/21755 */display: inline-block !important;position: relative;}#sk-container-id-1 div.sk-text-repr-fallback {display: none;}</style><div id=\"sk-container-id-1\" class=\"sk-top-container\"><div class=\"sk-text-repr-fallback\"><pre>XGBSEBootstrapEstimator(base_estimator=XGBSEKaplanTree(xgb_params={&#x27;booster&#x27;: &#x27;dart&#x27;,\n",
       "                                                                   &#x27;colsample_bynode&#x27;: 1.0,\n",
       "                                                                   &#x27;eval_metric&#x27;: &#x27;cox-nloglik&#x27;,\n",
       "                                                                   &#x27;max_depth&#x27;: 100,\n",
       "                                                                   &#x27;min_child_weight&#x27;: 30,\n",
       "                                                                   &#x27;objective&#x27;: &#x27;survival:cox&#x27;,\n",
       "                                                                   &#x27;subsample&#x27;: 1.0,\n",
       "                                                                   &#x27;tree_method&#x27;: &#x27;exact&#x27;}),\n",
       "                        n_estimators=5)</pre><b>In a Jupyter environment, please rerun this cell to show the HTML representation or trust the notebook. <br />On GitHub, the HTML representation is unable to render, please try loading this page with nbviewer.org.</b></div><div class=\"sk-container\" hidden><div class=\"sk-item sk-dashed-wrapped\"><div class=\"sk-label-container\"><div class=\"sk-label sk-toggleable\"><input class=\"sk-toggleable__control sk-hidden--visually\" id=\"sk-estimator-id-1\" type=\"checkbox\" ><label for=\"sk-estimator-id-1\" class=\"sk-toggleable__label sk-toggleable__label-arrow\">XGBSEBootstrapEstimator</label><div class=\"sk-toggleable__content\"><pre>XGBSEBootstrapEstimator(base_estimator=XGBSEKaplanTree(xgb_params={&#x27;booster&#x27;: &#x27;dart&#x27;,\n",
       "                                                                   &#x27;colsample_bynode&#x27;: 1.0,\n",
       "                                                                   &#x27;eval_metric&#x27;: &#x27;cox-nloglik&#x27;,\n",
       "                                                                   &#x27;max_depth&#x27;: 100,\n",
       "                                                                   &#x27;min_child_weight&#x27;: 30,\n",
       "                                                                   &#x27;objective&#x27;: &#x27;survival:cox&#x27;,\n",
       "                                                                   &#x27;subsample&#x27;: 1.0,\n",
       "                                                                   &#x27;tree_method&#x27;: &#x27;exact&#x27;}),\n",
       "                        n_estimators=5)</pre></div></div></div><div class=\"sk-parallel\"><div class=\"sk-parallel-item\"><div class=\"sk-item\"><div class=\"sk-label-container\"><div class=\"sk-label sk-toggleable\"><input class=\"sk-toggleable__control sk-hidden--visually\" id=\"sk-estimator-id-2\" type=\"checkbox\" ><label for=\"sk-estimator-id-2\" class=\"sk-toggleable__label sk-toggleable__label-arrow\">base_estimator: XGBSEKaplanTree</label><div class=\"sk-toggleable__content\"><pre>XGBSEKaplanTree(xgb_params={&#x27;booster&#x27;: &#x27;dart&#x27;, &#x27;colsample_bynode&#x27;: 1.0,\n",
       "                            &#x27;eval_metric&#x27;: &#x27;cox-nloglik&#x27;, &#x27;max_depth&#x27;: 100,\n",
       "                            &#x27;min_child_weight&#x27;: 30, &#x27;objective&#x27;: &#x27;survival:cox&#x27;,\n",
       "                            &#x27;subsample&#x27;: 1.0, &#x27;tree_method&#x27;: &#x27;exact&#x27;})</pre></div></div></div><div class=\"sk-serial\"><div class=\"sk-item\"><div class=\"sk-estimator sk-toggleable\"><input class=\"sk-toggleable__control sk-hidden--visually\" id=\"sk-estimator-id-3\" type=\"checkbox\" ><label for=\"sk-estimator-id-3\" class=\"sk-toggleable__label sk-toggleable__label-arrow\">XGBSEKaplanTree</label><div class=\"sk-toggleable__content\"><pre>XGBSEKaplanTree(xgb_params={&#x27;booster&#x27;: &#x27;dart&#x27;, &#x27;colsample_bynode&#x27;: 1.0,\n",
       "                            &#x27;eval_metric&#x27;: &#x27;cox-nloglik&#x27;, &#x27;max_depth&#x27;: 100,\n",
       "                            &#x27;min_child_weight&#x27;: 30, &#x27;objective&#x27;: &#x27;survival:cox&#x27;,\n",
       "                            &#x27;subsample&#x27;: 1.0, &#x27;tree_method&#x27;: &#x27;exact&#x27;})</pre></div></div></div></div></div></div></div></div></div></div>"
      ],
      "text/plain": [
       "XGBSEBootstrapEstimator(base_estimator=XGBSEKaplanTree(xgb_params={'booster': 'dart',\n",
       "                                                                   'colsample_bynode': 1.0,\n",
       "                                                                   'eval_metric': 'cox-nloglik',\n",
       "                                                                   'max_depth': 100,\n",
       "                                                                   'min_child_weight': 30,\n",
       "                                                                   'objective': 'survival:cox',\n",
       "                                                                   'subsample': 1.0,\n",
       "                                                                   'tree_method': 'exact'}),\n",
       "                        n_estimators=5)"
      ]
     },
     "execution_count": 11,
     "metadata": {},
     "output_type": "execute_result"
    }
   ],
   "source": [
    "base_estimator = XGBSEKaplanTree()\n",
    "xgbse_model = XGBSEBootstrapEstimator(base_estimator, n_estimators=5)\n",
    "xgbse_model.fit(train, y_train_xgbse, time_bins=cuts)"
   ]
  },
  {
   "cell_type": "code",
   "execution_count": 12,
   "metadata": {},
   "outputs": [],
   "source": [
    "y_pred_surv = xgbse_model.predict(test).round(3).T"
   ]
  },
  {
   "cell_type": "markdown",
   "metadata": {},
   "source": [
    "# Visualize Output"
   ]
  },
  {
   "cell_type": "code",
   "execution_count": 13,
   "metadata": {},
   "outputs": [
    {
     "data": {
      "image/png": "[encoded data removed]",
      "text/plain": [
       "<Figure size 432x288 with 1 Axes>"
      ]
     },
     "metadata": {
      "needs_background": "light"
     },
     "output_type": "display_data"
    }
   ],
   "source": [
    "idx=0\n",
    "\n",
    "sns.lineplot(data=y_pred_surv[idx])\n",
    "plt.title(f'Survival Curve: Index {idx}')\n",
    "plt.ylim(0,1.05);"
   ]
  },
  {
   "cell_type": "code",
   "execution_count": 14,
   "metadata": {},
   "outputs": [
    {
     "data": {
      "image/png": "[encoded data removed]",
      "text/plain": [
       "<Figure size 432x288 with 1 Axes>"
      ]
     },
     "metadata": {
      "needs_background": "light"
     },
     "output_type": "display_data"
    }
   ],
   "source": [
    "sns.lineplot(data=y_pred_surv.mean(axis=1))\n",
    "plt.title('Survival Curve: Mean')\n",
    "plt.ylim(0,1.05);"
   ]
  }
 ],
 "metadata": {
  "kernelspec": {
   "display_name": "Python 3",
   "language": "python",
   "name": "python3"
  },
  "language_info": {
   "codemirror_mode": {
    "name": "ipython",
    "version": 3
   },
   "file_extension": ".py",
   "mimetype": "text/x-python",
   "name": "python",
   "nbconvert_exporter": "python",
   "pygments_lexer": "ipython3",
   "version": "3.9.12"
  },
  "varInspector": {
   "cols": {
    "lenName": 16,
    "lenType": 16,
    "lenVar": 40
   },
   "kernels_config": {
    "python": {
     "delete_cmd_postfix": "",
     "delete_cmd_prefix": "del ",
     "library": "var_list.py",
     "varRefreshCmd": "print(var_dic_list())"
    },
    "r": {
     "delete_cmd_postfix": ") ",
     "delete_cmd_prefix": "rm(",
     "library": "var_list.r",
     "varRefreshCmd": "cat(var_dic_list()) "
    }
   },
   "types_to_exclude": [
    "module",
    "function",
    "builtin_function_or_method",
    "instance",
    "_Feature"
   ],
   "window_display": false
  }
 },
 "nbformat": 4,
 "nbformat_minor": 4
}
